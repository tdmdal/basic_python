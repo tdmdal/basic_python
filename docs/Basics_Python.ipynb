{
 "cells": [
  {
   "cell_type": "markdown",
   "metadata": {},
   "source": [
    "# Introducing Python Workshop #\n",
    "### Session II - Python Basics ###\n",
    "\n",
    "We will take an example that uses many features of Python programming language and as they come we will understand them one by one. \n",
    "\n",
    "\n",
    "To get started, we will refer to the text in the webpage - http://composingprograms.com/shakespeare.txt. This webpage contains texts of William Shakespeare's 37 plays. We will extract the text of this webpage into a Python \"list\" and perform some basic operations. \n",
    "\n",
    "__Imports__\n",
    "\n",
    "In order to extract the content of the webpage, we will use Python's \"urllib\" package, which has several modules for working with URLs. Specifically, we will use \"urlopen\" function from \"urllib.request\" module that can open and read URL contents. We can see the list of all modules of a package and their respective functions using __dir__ function."
   ]
  },
  {
   "cell_type": "code",
   "execution_count": 6,
   "metadata": {},
   "outputs": [],
   "source": [
    "import urllib.request"
   ]
  },
  {
   "cell_type": "code",
   "execution_count": 11,
   "metadata": {},
   "outputs": [],
   "source": [
    "dir(urllib)"
   ]
  },
  {
   "cell_type": "code",
   "execution_count": 10,
   "metadata": {},
   "outputs": [],
   "source": [
    "dir(urllib.request)"
   ]
  },
  {
   "cell_type": "markdown",
   "metadata": {},
   "source": [
    "<br>\n",
    "\n",
    "Before we can use the functions of a module, we need to import either the entire module or just the function. Here we will import a function called \"urlopen\" from the \"urllib.request\" module. To do this we must use Python's __import statement__. \n",
    "\n",
    "\n",
    "For more information on \"urllib\", refer - https://docs.python.org/3/library/internet.html"
   ]
  },
  {
   "cell_type": "code",
   "execution_count": 9,
   "metadata": {},
   "outputs": [],
   "source": [
    "from urllib.request import urlopen"
   ]
  },
  {
   "cell_type": "markdown",
   "metadata": {},
   "source": [
    "<br> \n",
    "__Statements and Expression__\n",
    "\n",
    "Statements and expression are basics of computer programs. __Statements__ carry out some action and __expressions__ typically describe computations. \n",
    "\n",
    "Here is an example of an __assignment statement__, which creates a variable named \"shakespeare\" and assigns it to the expression that follows \"__= operator__\", which is the text of a url location. The type of this text variable is string. "
   ]
  },
  {
   "cell_type": "code",
   "execution_count": 18,
   "metadata": {},
   "outputs": [],
   "source": [
    "shakespeare = 'http://composingprograms.com/shakespeare.txt'"
   ]
  },
  {
   "cell_type": "markdown",
   "metadata": {},
   "source": [
    "<br> \n",
    "__Values and Types__\n",
    "\n",
    "A program works with values. Values can be numbers, texts and/or special characters. Values belong to different types. Numbers are usually of type integer or float and texts are of type string. \n",
    "\n",
    "In our example the url location is combination of texts and belongs to type string. Python provides a type function to check the type of variables. "
   ]
  },
  {
   "cell_type": "code",
   "execution_count": null,
   "metadata": {},
   "outputs": [],
   "source": [
    "print( type(shakespeare) )"
   ]
  },
  {
   "cell_type": "markdown",
   "metadata": {},
   "source": [
    "<br> \n",
    "__Strings__\n",
    "\n",
    "Strings are sequence of characters. Strings are contained by either single or double quotes. Two string can be combined by using __\"+ operator\"__ and repeated by __\"* operator\"__. "
   ]
  },
  {
   "cell_type": "code",
   "execution_count": null,
   "metadata": {},
   "outputs": [],
   "source": [
    "print( shakespeare + '  -  ' + shakespeare)"
   ]
  },
  {
   "cell_type": "code",
   "execution_count": null,
   "metadata": {},
   "outputs": [],
   "source": [
    "print( shakespeare * 3)"
   ]
  },
  {
   "cell_type": "markdown",
   "metadata": {},
   "source": [
    "<br> \n",
    "__Variables__\n",
    "\n",
    "A powerful feature of programming languages is the ability to manipulate variables. Variable is a name that refers to a value. There are naming rules for naming a variable. For example, variable names cannot start with a number or contain space. NameError is a common error in programming. It occurs when a naming rule is violated. \n",
    "\n",
    "It is a good practice to have descriptive but concise variable names. "
   ]
  },
  {
   "cell_type": "code",
   "execution_count": null,
   "metadata": {},
   "outputs": [],
   "source": [
    "1shakespeare = 'http://composingprograms.com/shakespeare.txt'"
   ]
  },
  {
   "cell_type": "markdown",
   "metadata": {},
   "source": [
    "<br> We will now use the 'urlopen' function that we called earlier to get the actual content of this webpage and assign it back to the same variable named \"shakespeare\". "
   ]
  },
  {
   "cell_type": "code",
   "execution_count": null,
   "metadata": {},
   "outputs": [],
   "source": [
    "#shakespeare = urlopen(shakespeare)\n",
    "shakespeare = urlopen('http://composingprograms.com/shakespeare.txt')"
   ]
  },
  {
   "cell_type": "markdown",
   "metadata": {},
   "source": [
    "<br> The variable \"shakespeare\" no longer belongs to type string. \n",
    "\n",
    "We have reassigned the variable to another expression. This expression applies the function \"urlopen\" to the previous value of the variable \"shakespeare\". "
   ]
  },
  {
   "cell_type": "code",
   "execution_count": null,
   "metadata": {},
   "outputs": [],
   "source": [
    "print( type(shakespeare) )"
   ]
  },
  {
   "cell_type": "markdown",
   "metadata": {},
   "source": [
    "<br>\n",
    "\n",
    "The new value of the variable \"shakespeare\" belongs to class \"http.client.HTTPResponse\". We will not get into the details of classes in this workshop. Only briefly we will say that each class instance can have attributes attached to it. Class instances can also have __methods__ attached to them. Methods are functions that are available only to its own class and are accessed using the __\"dot operator\"__ (just like we did with the modules before). \n",
    "\n",
    "The variable \"shakespeare\" now contains not only the content of the webpage but also everything that comes attached to the output of the \"urlopen\" function such as methods that are specific to it. A list of available methods for a specific class can be obtained with \"dir\" function.\n",
    "\n",
    "Note that if two separate classes have same method, it is possible that they perform different operations. "
   ]
  },
  {
   "cell_type": "code",
   "execution_count": 15,
   "metadata": {},
   "outputs": [],
   "source": [
    "dir(shakespeare)"
   ]
  },
  {
   "cell_type": "code",
   "execution_count": 23,
   "metadata": {},
   "outputs": [],
   "source": [
    "#dir(shakespeare.read())"
   ]
  },
  {
   "cell_type": "code",
   "execution_count": 33,
   "metadata": {},
   "outputs": [],
   "source": [
    "#dir(shakespeare.read().decode())"
   ]
  },
  {
   "cell_type": "code",
   "execution_count": 34,
   "metadata": {},
   "outputs": [],
   "source": [
    "#dir(shakespeare.read().decode().split())"
   ]
  },
  {
   "cell_type": "markdown",
   "metadata": {},
   "source": [
    "<br> \n",
    "__Functions__\n",
    "\n",
    "Variables are manipulated using functions (and operators). The name of the function is bound to compound operation. A url location in itself is one piece of data and the content of the url location is another piece of data. The process of getting the content of url from its url location is complex and the function 'urlopen' simplifies it for us. This function takes the url location, runs some operations with it and gives us an output which has the contents of the webpage and methods that can be applied to this output.  "
   ]
  },
  {
   "cell_type": "code",
   "execution_count": 35,
   "metadata": {},
   "outputs": [],
   "source": [
    "words = shakespeare.read().decode().split()"
   ]
  },
  {
   "cell_type": "code",
   "execution_count": null,
   "metadata": {},
   "outputs": [],
   "source": [
    "print( type(words) )"
   ]
  },
  {
   "cell_type": "markdown",
   "metadata": {},
   "source": [
    "<br> \n",
    "__List__ \n",
    "\n",
    "A list is a mutable, ordered sequence of items. It can be indexed, sliced and changed. Each element can be accessed using its position in the list. \n",
    "\n",
    "In our example, words is a variable that refers to a list of words that exist in the Shakespearean text including the title of the first play \"A MIDSUMMER_NIGHT\"S DREAM\". Let's separate this title from rest of text. "
   ]
  },
  {
   "cell_type": "code",
   "execution_count": null,
   "metadata": {},
   "outputs": [],
   "source": [
    "title = words[0:3]\n",
    "print( title )"
   ]
  },
  {
   "cell_type": "code",
   "execution_count": null,
   "metadata": {},
   "outputs": [],
   "source": [
    "body = words[3:]\n",
    "\n",
    "print( body[:10])"
   ]
  },
  {
   "cell_type": "markdown",
   "metadata": {},
   "source": [
    "<br>\n",
    "\n",
    "__Indexing Operator__\n",
    "\n",
    "Indexing operator ([ ]) selects one or more elements from a sequence. Each element of a sequence is assigned a number - its position or index. Index must be an integer value and is called inside a pair of square brackets. \n",
    "\n",
    "The operation that extracts a subsequence is called __slicing__. When selecting more than one element __\": operator\"__ is used with integer before and after it to indicate where to start and where to stop the index, respectively.\n",
    "\n",
    "Python indexing starts at 0 and ends at (n-1), where n refers to the number of items in the sequence. The function \"len\" can be used to get the number of items in a list. \n",
    "\n",
    "Negative indexing is also supported by Python. It can be done by adding \"-\" operator before the integer value."
   ]
  },
  {
   "cell_type": "code",
   "execution_count": null,
   "metadata": {},
   "outputs": [],
   "source": [
    "n_words = len(body)\n",
    "print( n_words )"
   ]
  },
  {
   "cell_type": "code",
   "execution_count": null,
   "metadata": {},
   "outputs": [],
   "source": [
    "print( body[980634])"
   ]
  },
  {
   "cell_type": "code",
   "execution_count": null,
   "metadata": {},
   "outputs": [],
   "source": [
    "print( body[980633])"
   ]
  },
  {
   "cell_type": "code",
   "execution_count": null,
   "metadata": {},
   "outputs": [],
   "source": [
    "print( body[-1])"
   ]
  },
  {
   "cell_type": "code",
   "execution_count": null,
   "metadata": {},
   "outputs": [],
   "source": [
    "sub_body = body[:10]\n",
    "print( sub_body)"
   ]
  },
  {
   "cell_type": "code",
   "execution_count": null,
   "metadata": {},
   "outputs": [],
   "source": [
    "print( sub_body[:-2])"
   ]
  },
  {
   "cell_type": "code",
   "execution_count": null,
   "metadata": {},
   "outputs": [],
   "source": [
    "print( sub_body[::2])    # gives every 2nd element"
   ]
  },
  {
   "cell_type": "code",
   "execution_count": null,
   "metadata": {},
   "outputs": [],
   "source": [
    "print( sub_body[::-1])   # backward indexing"
   ]
  },
  {
   "cell_type": "code",
   "execution_count": null,
   "metadata": {},
   "outputs": [],
   "source": [
    "print( sub_body[::-2])   # backward indexing of every 2nd element"
   ]
  },
  {
   "cell_type": "markdown",
   "metadata": {},
   "source": [
    "<br>\n",
    "\n",
    "__Arithmetic Operator__\n",
    "\n",
    "Just like the strings, lists can also be manipulated using \"+\", \"\\*\" and other such operators known as arithmetic operators. "
   ]
  },
  {
   "cell_type": "code",
   "execution_count": null,
   "metadata": {},
   "outputs": [],
   "source": [
    "new_list = title + sub_body\n",
    "print(new_list)"
   ]
  },
  {
   "cell_type": "code",
   "execution_count": null,
   "metadata": {},
   "outputs": [],
   "source": [
    "numeric_list = [1, 2, 3]\n",
    "print(numeric_list * 3)"
   ]
  },
  {
   "cell_type": "markdown",
   "metadata": {},
   "source": [
    "Arithmetic operators behave differently on lists and strings vs integers and float. "
   ]
  },
  {
   "cell_type": "code",
   "execution_count": null,
   "metadata": {},
   "outputs": [],
   "source": [
    "print( 5 + 5 )          # addition\n",
    "print( 5.5 - 6.5 )      # substraction\n",
    "print( 5 * 3 )          # multiplication\n",
    "print( 5.5 // 1.25 )    # floor division"
   ]
  },
  {
   "cell_type": "markdown",
   "metadata": {},
   "source": [
    "<br> __Iterations__\n",
    "\n",
    "Iterations are useful for manipulating each item in the list. For example, if we want to multiply each element of the list by 3, we can do that using __for statement__, which makes iterations very easy. Note that the behavior of the operator will be different for different types of elements in a list. "
   ]
  },
  {
   "cell_type": "code",
   "execution_count": null,
   "metadata": {},
   "outputs": [],
   "source": [
    "mixed_list = title + numeric_list\n",
    "mixed_list = title.append(numeric_list)"
   ]
  },
  {
   "cell_type": "code",
   "execution_count": null,
   "metadata": {},
   "outputs": [],
   "source": [
    "for element in mixed_list:\n",
    "    print(element*3)"
   ]
  },
  {
   "cell_type": "markdown",
   "metadata": {},
   "source": [
    "<br>\n",
    "\n",
    "__Python Syntax__\n",
    "\n",
    "Syntax refers to the structure of the language. \n",
    "\n",
    "The end of the statement does not require semicolon or other symbol. After a statement is complete, the code is considered completed. However, using semicolon can allow you to execute two separate codes from the same line. \n",
    "\n",
    "Indentation i.e. the whitespace matters in Python. A block of code is a set of statements that should be treated as a unit even when written in a new line. A code block in python are denoted by indentation. For example, in compound statements such as loops and conditionals, after the colon we must enter into a new line and add exactly four spaces to continue further. Whitespaces __within__ the same line does not matter however.  \n",
    "\n",
    "Comments about codes can be made using hashtag #. anything written after # is ignored by the interpreter. Python does not have any syntax for multi-line comments. "
   ]
  },
  {
   "cell_type": "code",
   "execution_count": null,
   "metadata": {},
   "outputs": [],
   "source": [
    "sub_body_lowercase = []\n",
    "for word in sub_body:\n",
    "        sub_body_lowercase.append( word.lower() )\n",
    "        #print(sub_body_lowercase)\n",
    "# print(sub_body_lowercase)\n",
    "sub_body_lowercase"
   ]
  },
  {
   "cell_type": "markdown",
   "metadata": {},
   "source": [
    "<br>\n",
    "\n",
    "__Membership operator__\n",
    "\n",
    "\"in\" and \"not in\" are membership operators. They check membership of values in another sequence of values."
   ]
  },
  {
   "cell_type": "code",
   "execution_count": null,
   "metadata": {},
   "outputs": [],
   "source": [
    "2 in numeric_list"
   ]
  },
  {
   "cell_type": "code",
   "execution_count": null,
   "metadata": {},
   "outputs": [],
   "source": [
    "4 in numeric_list"
   ]
  },
  {
   "cell_type": "code",
   "execution_count": null,
   "metadata": {},
   "outputs": [],
   "source": [
    "4 not in numeric_list"
   ]
  },
  {
   "cell_type": "markdown",
   "metadata": {},
   "source": [
    "<br> __Conditionals__\n",
    "\n",
    "In order to write useful programs, we almost always need the ability to check conditions and change the behavior of program accordingly. In Python, conditionals can be created with __if directive__. \n",
    "\n",
    "Conditionals are often combined with __comparison operators__. In the conditional below, we used \"==\" (is equal to), which is an example of conditional operator. Other examples include \"!=\" (is not equal to), \">=\" (is greater than or equal to), etc."
   ]
  },
  {
   "cell_type": "code",
   "execution_count": null,
   "metadata": {},
   "outputs": [],
   "source": [
    "my_string = 'some text'\n",
    "#my_string = 7\n",
    "\n",
    "if type(my_string) == str:\n",
    "    print( str(my_string) + ' is of type string.')\n",
    "else:\n",
    "    print( str(my_string) + ' is not of type string.')"
   ]
  },
  {
   "cell_type": "markdown",
   "metadata": {},
   "source": [
    "<br>\n",
    "Iterators and conditionals can be combined together to manipulate each element of a list conditionally. "
   ]
  },
  {
   "cell_type": "code",
   "execution_count": null,
   "metadata": {},
   "outputs": [],
   "source": [
    "for element in mixed_list:\n",
    "    if element in numeric_list:\n",
    "        print('Yes')\n",
    "    else:\n",
    "        print('No')"
   ]
  },
  {
   "cell_type": "markdown",
   "metadata": {},
   "source": [
    "<br>\n",
    "\n",
    "__List Comprehension__\n",
    "\n",
    "Iterators also allow to conditionally manipulate individual items on the list in simpler way (without using loops). It can also be done by List Comprehension.\n"
   ]
  },
  {
   "cell_type": "code",
   "execution_count": null,
   "metadata": {},
   "outputs": [],
   "source": [
    "doubled_list = [e*2 for e in numeric_list]\n",
    "squared_list = [e**2 for e in numeric_list]"
   ]
  },
  {
   "cell_type": "markdown",
   "metadata": {},
   "source": [
    "List Comprehension and conditionals can also be combined together for more list operations. Codes that follow list comprehension are generally elegant and clear. "
   ]
  },
  {
   "cell_type": "code",
   "execution_count": null,
   "metadata": {},
   "outputs": [],
   "source": [
    "new_list = [x + 23 for x in numeric_list if x > 2]\n",
    "new_list"
   ]
  },
  {
   "cell_type": "markdown",
   "metadata": {},
   "source": [
    "<br> __Dictionary__\n",
    "\n",
    "Dictionary is a mutable, unordered set of key-value pairs. Each key must be unique but values do not have to be. Each key is separated from its value by \":\" and each key-value pair is separated from the next with a comma. To access a given element in a dictionary, we must refer to it by its key. Dictionaries are written using curly brackets. \"{ }\" creates an empty dictionary."
   ]
  },
  {
   "cell_type": "code",
   "execution_count": null,
   "metadata": {},
   "outputs": [],
   "source": [
    "my_dict = { }\n",
    "print( type(my_dict) )"
   ]
  },
  {
   "cell_type": "code",
   "execution_count": null,
   "metadata": {},
   "outputs": [],
   "source": [
    "my_dict = { 'Name':'John', 'Age':35, 'Hobbies':['basketball', 'football', 'swimming']}\n",
    "my_dict['Hobbies']"
   ]
  },
  {
   "cell_type": "code",
   "execution_count": null,
   "metadata": {},
   "outputs": [],
   "source": [
    "my_dict['Last Name'] = \"Smith\"\n",
    "my_dict"
   ]
  },
  {
   "cell_type": "markdown",
   "metadata": {},
   "source": [
    "<br>\n",
    "\n",
    "__Lists, dictionaries, conditionals and iterations can be combined together to perform complex computations.__ \n",
    "\n",
    "For example, if we want to find out the frequency of each words and punctuations that appear in the Shakespearean text, we can do so as:"
   ]
  },
  {
   "cell_type": "code",
   "execution_count": null,
   "metadata": {},
   "outputs": [],
   "source": [
    "freq_words = {}\n",
    "\n",
    "for word in body_lowercase:\n",
    "    if word in freq_words:\n",
    "        freq_words[word] = freq_words[word] + 1\n",
    "    else:\n",
    "        freq_words[word] = 1\n",
    "        \n",
    "#freq_words"
   ]
  },
  {
   "cell_type": "code",
   "execution_count": null,
   "metadata": {},
   "outputs": [],
   "source": [
    "len( freq_words.keys() )"
   ]
  },
  {
   "cell_type": "code",
   "execution_count": null,
   "metadata": {},
   "outputs": [],
   "source": [
    "print( freq_words[\"daughter\"] )"
   ]
  },
  {
   "cell_type": "code",
   "execution_count": null,
   "metadata": {},
   "outputs": [],
   "source": [
    "print( freq_words[\"now\"])"
   ]
  },
  {
   "cell_type": "code",
   "execution_count": null,
   "metadata": {},
   "outputs": [],
   "source": []
  }
 ],
 "metadata": {
  "kernelspec": {
   "display_name": "Python 3 (ipykernel)",
   "language": "python",
   "name": "python3"
  },
  "language_info": {
   "codemirror_mode": {
    "name": "ipython",
    "version": 3
   },
   "file_extension": ".py",
   "mimetype": "text/x-python",
   "name": "python",
   "nbconvert_exporter": "python",
   "pygments_lexer": "ipython3",
   "version": "3.7.3"
  }
 },
 "nbformat": 4,
 "nbformat_minor": 2
}
