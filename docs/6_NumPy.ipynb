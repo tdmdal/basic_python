{
 "cells": [
  {
   "cell_type": "markdown",
   "metadata": {},
   "source": [
    "# Introducing Python Workshop #\n",
    "### Session III - NumPy Array ###\n",
    "\n",
    "Numpy arrays perform better than lists because each element of a list in itself is a high-level python object and when working with large number of elements, it creates overhead in performance efficiency. Numpy's array data structure stores data in a simpler form and manipulates it more directly in memory with having to deal with high-level python objects."
   ]
  },
  {
   "cell_type": "code",
   "execution_count": null,
   "metadata": {},
   "outputs": [],
   "source": [
    "numeric_list = [1, 2, 3]\n",
    "\n",
    "doubled_list = []\n",
    "for e in numeric_list: \n",
    "    doubled_list.append(e*2)\n",
    "    "
   ]
  },
  {
   "cell_type": "code",
   "execution_count": null,
   "metadata": {},
   "outputs": [],
   "source": [
    "doubled_list = [e*2 for e in numeric_list]\n",
    "squared_list = [e**2 for e in numeric_list]\n",
    "    \n",
    "print(doubled_list)\n",
    "print(squared_list)"
   ]
  },
  {
   "cell_type": "code",
   "execution_count": null,
   "metadata": {},
   "outputs": [],
   "source": [
    "import numpy as np\n",
    "\n",
    "A = np.array(numeric_list)\n",
    "doubled_array = A*2\n",
    "squared_array = A**2\n",
    "\n",
    "print(doubled_array)\n",
    "print(squared_array)"
   ]
  },
  {
   "cell_type": "markdown",
   "metadata": {},
   "source": [
    "Numpy array provides many other functions for mathematical operations. "
   ]
  },
  {
   "cell_type": "code",
   "execution_count": null,
   "metadata": {},
   "outputs": [],
   "source": [
    "sqrt = np.sqrt(A)\n",
    "\n",
    "print(sqrt)"
   ]
  },
  {
   "cell_type": "markdown",
   "metadata": {},
   "source": [
    "<br>\n",
    "\n",
    "### __Basics of Numpy Library__ ###\n",
    "\n",
    "- NumPy stands for ‘Numerical Python’. \n",
    "- It is an open source Python library that provides fast mathematical computation on arrays, matrices and vectors. \n",
    "- Numpy completes the Machine Learning ecosystem for python along with other modules like Scikit-learn, Pandas, Matplotlib, TensorFlow, etc.\n",
    "- NumPy’s main object is the __homogeneous__ multidimensional array, which is a table with same type elements, i.e, integers or string or characters (homogeneous), usually integers. \n",
    "- A numpy array is indexed by a tuple of nonnegative integers. \n",
    "- Numpy methods and functions can be accessed using __dot notation__ after importing the module itself.\n",
    "\n",
    "<br>\n",
    "\n",
    "__Creating Numpy arrays__"
   ]
  },
  {
   "cell_type": "code",
   "execution_count": null,
   "metadata": {},
   "outputs": [],
   "source": [
    "py_list = [1, 2, 3, 4, 5, 6]                    # python list\n",
    "np_array = np.array(py_list)                    # convert python list to Numpy array\n",
    "\n",
    "\n",
    "print(np_array)\n",
    "print('---------------------------')\n",
    "print(type(py_list))\n",
    "print('---------------------------')\n",
    "print(type(np_array))"
   ]
  },
  {
   "cell_type": "code",
   "execution_count": null,
   "metadata": {},
   "outputs": [],
   "source": [
    "np_array_2d = np.array([(2,3,4), \n",
    "                        (12,14,15)])             # 2 dimensional \n",
    "\n",
    "print(np_array_2d)\n",
    "print('---------------------------')\n",
    "print('shape = ', np_array_2d.shape)"
   ]
  },
  {
   "cell_type": "code",
   "execution_count": null,
   "metadata": {},
   "outputs": [],
   "source": [
    "np_array_3d = np.array([ [(2, 3, 4)],\n",
    "                         [(12, 14, 15)],\n",
    "                         [(85.5, 94, 100.3)]\n",
    "                       ])                        # 3 dimensional \n",
    "\n",
    "print(np_array_3d)\n",
    "print('---------------------------')\n",
    "print('ndim = ', np_array_3d.ndim)               # dimnesion of array\n",
    "print('---------------------------')\n",
    "print('shape = ', np_array_3d.shape)             # size of the array\n",
    "print('---------------------------')\n",
    "print('size = ', np_array_3d.size)               # total number of elements\n",
    "print('---------------------------')\n",
    "print('element = ',np_array_3d.dtype)            # type of element"
   ]
  },
  {
   "cell_type": "code",
   "execution_count": null,
   "metadata": {},
   "outputs": [],
   "source": [
    "b = np.linspace(start=1, stop=50, num=10, dtype=int)         # Start at 1 and end at 50\n",
    "c = np.logspace(start=1, stop=50, num=10, base=10)           # Start at 10^1 and end at 10^50\n",
    "\n",
    "print(b)\n",
    "print(c)"
   ]
  },
  {
   "cell_type": "markdown",
   "metadata": {},
   "source": [
    "<br>\n",
    "\n",
    "__Indexing and slicing Numpy arrays__"
   ]
  },
  {
   "cell_type": "code",
   "execution_count": null,
   "metadata": {},
   "outputs": [],
   "source": [
    "print(a[:2, 1:3])\n",
    "print(b[6:])"
   ]
  },
  {
   "cell_type": "markdown",
   "metadata": {},
   "source": [
    "<br>\n",
    "\n",
    "__Reversing a Numpy arrays__"
   ]
  },
  {
   "cell_type": "code",
   "execution_count": null,
   "metadata": {},
   "outputs": [],
   "source": [
    "np_array_3d[::-1,]"
   ]
  },
  {
   "cell_type": "code",
   "execution_count": null,
   "metadata": {},
   "outputs": [],
   "source": [
    "np_array_3d[::-1, ::-1, ::-1]"
   ]
  },
  {
   "cell_type": "markdown",
   "metadata": {},
   "source": [
    "<br>\n",
    "\n",
    "__Modifying Numpy arrays__"
   ]
  },
  {
   "cell_type": "code",
   "execution_count": null,
   "metadata": {},
   "outputs": [],
   "source": [
    "np_array_3d.reshape(3,3)                       # reshape Numpy array  "
   ]
  },
  {
   "cell_type": "code",
   "execution_count": null,
   "metadata": {},
   "outputs": [],
   "source": [
    "np_array_3d.flatten()"
   ]
  },
  {
   "cell_type": "code",
   "execution_count": null,
   "metadata": {},
   "outputs": [],
   "source": [
    "np_array_3d_int = np_array_3d.astype(int)      # convert type of elements\n",
    "print(np_array_3d_int)"
   ]
  },
  {
   "cell_type": "markdown",
   "metadata": {},
   "source": [
    "<br>\n",
    "\n",
    "__Assignments on Numpy arrays slices changes also the original array__"
   ]
  },
  {
   "cell_type": "code",
   "execution_count": null,
   "metadata": {},
   "outputs": [],
   "source": [
    "np_slice = np_array[1:]\n",
    "np_slice[0] = 100\n",
    "print(np_slice)\n",
    "print(np_array)"
   ]
  },
  {
   "cell_type": "code",
   "execution_count": null,
   "metadata": {},
   "outputs": [],
   "source": [
    "np_array = np.array(py_list)                 # convert python list to Numpy array\n",
    "np_array_copy = np_array.copy()              # make a copy of Numpy array\n",
    "print(np_array_copy)"
   ]
  },
  {
   "cell_type": "code",
   "execution_count": null,
   "metadata": {},
   "outputs": [],
   "source": [
    "np_slice = np_array_copy[1:]\n",
    "np_slice[0] = 100\n",
    "\n",
    "print(np_slice)\n",
    "print(np_array)\n",
    "print(np_array_copy)"
   ]
  },
  {
   "cell_type": "markdown",
   "metadata": {},
   "source": [
    "<br>\n",
    "\n",
    "__Numpy arrays are easier to manipulate compared to Python Lists__"
   ]
  },
  {
   "cell_type": "code",
   "execution_count": null,
   "metadata": {},
   "outputs": [],
   "source": [
    "py_list[1:] = 1"
   ]
  },
  {
   "cell_type": "code",
   "execution_count": null,
   "metadata": {},
   "outputs": [],
   "source": [
    "np_array[1:] = 1\n",
    "np_array"
   ]
  },
  {
   "cell_type": "markdown",
   "metadata": {},
   "source": [
    "<br>\n",
    "\n",
    "__Broadcasting is an important feature of Numpy arrays__\n",
    "\n",
    "Broadcasting feature allows NumPy to work with arrays of different shapes for performing arithmetic operations."
   ]
  },
  {
   "cell_type": "markdown",
   "metadata": {},
   "source": [
    "print(np_array + 10 )                              # adds 10 to each element of np_array\n",
    "print(np_array)"
   ]
  },
  {
   "cell_type": "code",
   "execution_count": null,
   "metadata": {},
   "outputs": [],
   "source": [
    "a = np.ones( (3,3) )\n",
    "b = np.arange(3)\n",
    "\n",
    "print(a)\n",
    "print('-------------')\n",
    "print(b)\n",
    "print('-------------')\n",
    "print(a + b)"
   ]
  },
  {
   "cell_type": "code",
   "execution_count": null,
   "metadata": {},
   "outputs": [],
   "source": [
    "py_list + 2 "
   ]
  },
  {
   "cell_type": "markdown",
   "metadata": {},
   "source": [
    "<br>\n",
    "\n",
    "__Computations in Numpy Array__"
   ]
  },
  {
   "cell_type": "code",
   "execution_count": null,
   "metadata": {},
   "outputs": [],
   "source": [
    "# for the whole array\n",
    "\n",
    "print( np_array.max() )\n",
    "print( np_array_2d.min() )\n",
    "print( np_array_3d.mean() )"
   ]
  },
  {
   "cell_type": "code",
   "execution_count": null,
   "metadata": {},
   "outputs": [],
   "source": [
    "# for row-wise or column-wise calculations\n",
    "\n",
    "print( \"Row minimum: \", np.min( np_array_2d, axis = 0) )\n",
    "print( \"Column minimum: \", np.min( np_array_2d, axis = 1) )"
   ]
  },
  {
   "cell_type": "code",
   "execution_count": null,
   "metadata": {},
   "outputs": [],
   "source": [
    "np_array_2d"
   ]
  },
  {
   "cell_type": "code",
   "execution_count": null,
   "metadata": {},
   "outputs": [],
   "source": []
  }
 ],
 "metadata": {
  "kernelspec": {
   "display_name": "Python 3 (ipykernel)",
   "language": "python",
   "name": "python3"
  },
  "language_info": {
   "codemirror_mode": {
    "name": "ipython",
    "version": 3
   },
   "file_extension": ".py",
   "mimetype": "text/x-python",
   "name": "python",
   "nbconvert_exporter": "python",
   "pygments_lexer": "ipython3",
   "version": "3.7.3"
  }
 },
 "nbformat": 4,
 "nbformat_minor": 2
}
