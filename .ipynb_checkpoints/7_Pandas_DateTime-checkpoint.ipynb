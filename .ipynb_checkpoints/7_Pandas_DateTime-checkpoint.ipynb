{
 "cells": [
  {
   "cell_type": "markdown",
   "metadata": {},
   "source": [
    "# Introducing Python Workshop #\n",
    "### Session III - Date and Time in Pandas ###\n",
    "\n",
    "__Importing Libraries and Data__\n",
    "\n",
    "Let us begin by importing the modules we will need for data analysis and visualization and the data itself. For this example, we will use Pandas' __read_html()__ method to read the html table directly from the webpage - https://www.fdic.gov/bank/individual/failed/banklist.html "
   ]
  },
  {
   "cell_type": "code",
   "execution_count": null,
   "metadata": {},
   "outputs": [],
   "source": [
    "import pandas as pd\n",
    "import numpy as np\n",
    "\n",
    "import seaborn as sns\n",
    "import matplotlib.pyplot as plt\n",
    "import matplotlib.dates as mdates\n",
    "\n",
    "data = pd.read_html('https://www.fdic.gov/bank/individual/failed/banklist.html')\n",
    "data = data[0]\n",
    "data.head()"
   ]
  },
  {
   "cell_type": "markdown",
   "metadata": {},
   "source": [
    "Let's explore the dataset."
   ]
  },
  {
   "cell_type": "code",
   "execution_count": null,
   "metadata": {},
   "outputs": [],
   "source": [
    "print( data.shape )\n",
    "print('\\n')\n",
    "data.info()"
   ]
  },
  {
   "cell_type": "markdown",
   "metadata": {},
   "source": [
    "<br>\n",
    "\n",
    "Let's convert the columns \"Closing Date\" and \"Updated Date\" into Pandas DateTime object using __to_datetime()__ method. "
   ]
  },
  {
   "cell_type": "code",
   "execution_count": null,
   "metadata": {},
   "outputs": [],
   "source": [
    "data['Closing Date'] = pd.to_datetime( data['Closing Date'], format='%B %d, %Y')\n",
    "data['Updated Date'] = pd.to_datetime( data['Updated Date'], format='%B %d, %Y')\n",
    "data.info()"
   ]
  },
  {
   "cell_type": "markdown",
   "metadata": {},
   "source": [
    "<br>\n",
    "\n",
    "Now, we can use regular arithmetic operator to get the difference between two dates based on some time interval. In our case, we will calculate the number of days between closing and update date. "
   ]
  },
  {
   "cell_type": "code",
   "execution_count": null,
   "metadata": {},
   "outputs": [],
   "source": [
    "data['time_to_update'] = (data['Updated Date'] - data['Closing Date']).dt.days\n",
    "data.head()"
   ]
  },
  {
   "cell_type": "markdown",
   "metadata": {},
   "source": [
    "<br>\n",
    "\n",
    "To work with time series data in pandas, we use a DatetimeIndex as the index for our DataFrame (or Series)."
   ]
  },
  {
   "cell_type": "code",
   "execution_count": null,
   "metadata": {},
   "outputs": [],
   "source": [
    "data = data.set_index('Closing Date')\n",
    "data.head()"
   ]
  },
  {
   "cell_type": "code",
   "execution_count": null,
   "metadata": {},
   "outputs": [],
   "source": [
    "sns.set(rc={'figure.figsize':(10, 4)})\n",
    "\n",
    "data['time_to_update'].plot(marker='.', alpha=0.5, linestyle='None', figsize=(11, 9), subplots=True)"
   ]
  },
  {
   "cell_type": "markdown",
   "metadata": {},
   "source": [
    "<br>\n",
    "\n",
    "We can extract additional features from the DateTimeIndex."
   ]
  },
  {
   "cell_type": "code",
   "execution_count": null,
   "metadata": {},
   "outputs": [],
   "source": [
    "data['Year'] = data.index.year\n",
    "data['Month'] = data.index.month\n",
    "data['Weekday Name'] = data.index.weekday_name\n",
    "data.head()"
   ]
  },
  {
   "cell_type": "markdown",
   "metadata": {},
   "source": [
    "<br>\n",
    "\n",
    "We can also perform aggregations based on time periods and plot them to show trend by time periods. The __.resample()__ method in pandas is similar to its groupby method where we essentially group-by a certain time span. We can then specify a method of how we would like to resample."
   ]
  },
  {
   "cell_type": "code",
   "execution_count": null,
   "metadata": {},
   "outputs": [],
   "source": [
    "data_monthly_mean = data[data.columns].resample('M').mean()\n",
    "data_weekly_mean = data[data.columns].resample('W').mean()\n",
    "\n",
    "start, end = '2008-01', '2019-06'         # Start and end of the date range to extract\n",
    "fig, ax = plt.subplots(figsize=(14, 5))   # Plot daily and weekly resampled time series together\n",
    "ax.plot(data_weekly_mean.loc[start:end, 'time_to_update'], marker='.', linestyle='-', linewidth=0.5, label='Weekly Mean')\n",
    "ax.plot(data_monthly_mean.loc[start:end, 'time_to_update'], marker='o', markersize=8, linestyle='-', label='Monthly Mean')\n",
    "ax.set_ylabel('time to update bank closures')\n",
    "ax.legend()"
   ]
  },
  {
   "cell_type": "code",
   "execution_count": null,
   "metadata": {},
   "outputs": [],
   "source": []
  }
 ],
 "metadata": {
  "kernelspec": {
   "display_name": "Python 3 (ipykernel)",
   "language": "python",
   "name": "python3"
  },
  "language_info": {
   "codemirror_mode": {
    "name": "ipython",
    "version": 3
   },
   "file_extension": ".py",
   "mimetype": "text/x-python",
   "name": "python",
   "nbconvert_exporter": "python",
   "pygments_lexer": "ipython3",
   "version": "3.7.3"
  }
 },
 "nbformat": 4,
 "nbformat_minor": 2
}
